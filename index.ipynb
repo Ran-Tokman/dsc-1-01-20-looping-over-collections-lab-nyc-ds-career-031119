{
 "cells": [
  {
   "cell_type": "markdown",
   "metadata": {},
   "source": [
    "# Looping Over Collections - Lab"
   ]
  },
  {
   "cell_type": "markdown",
   "metadata": {},
   "source": [
    "## Introduction\n",
    "In this lab, we will be practicing what we know about for loops. We will use them to reduce the amount of code we write by hand to iterate through collections. We will use data from our excel file, `cities.xlsx`, that had data on different cities, their populations, and their areas. Finally, we will use this information to plot and compare each city. Let's get started!"
   ]
  },
  {
   "cell_type": "markdown",
   "metadata": {},
   "source": [
    "## Objectives\n",
    "You will be able to:\n",
    "* Use loops to iterate over a collection of records"
   ]
  },
  {
   "cell_type": "markdown",
   "metadata": {},
   "source": [
    "## Identifying When To Use a For Loop"
   ]
  },
  {
   "cell_type": "markdown",
   "metadata": {},
   "source": [
    "In the last lesson, we worked with some of our travel data.  Let's retrieve a list with our travel information again from excel.  First, we read the information from excel as a list of dictionaries, with each dictionary representing a location.  And we assign this list to the variable `cities`."
   ]
  },
  {
   "cell_type": "code",
   "execution_count": 8,
   "metadata": {},
   "outputs": [],
   "source": [
    "# If you're viewing this lab on learn, uncomment the next line to install xlrd on the docker container\n",
    "# !pip install xlrd \n",
    "import pandas\n",
    "file_name = './cities.xlsx'\n",
    "travel_df = pandas.read_excel(file_name)\n",
    "cities = travel_df.to_dict('records')"
   ]
  },
  {
   "cell_type": "markdown",
   "metadata": {},
   "source": [
    "Next, we retrieve the first three city names, stored as the `'City'` attribute of each dictionary, and `'Population'` of each of the cities.  Then we plot the names as our `x_values` and the populations as our `y_values`."
   ]
  },
  {
   "cell_type": "code",
   "execution_count": 9,
   "metadata": {},
   "outputs": [
    {
     "data": {
      "image/png": "[encoded data removed]",
      "text/plain": [
       "<Figure size 432x288 with 1 Axes>"
      ]
     },
     "metadata": {
      "needs_background": "light"
     },
     "output_type": "display_data"
    }
   ],
   "source": [
    "import matplotlib.pyplot as plt\n",
    "\n",
    "%matplotlib inline\n",
    "\n",
    "x_values = [cities[0]['City'], cities[1]['City'], cities[2]['City']]\n",
    "y_values = [cities[0]['Population'], cities[1]['Population'], cities[2]['Population']]\n",
    " \n",
    "plt.bar(x_values, y_values)\n",
    "plt.ylabel('Population')\n",
    "plt.title('City Populations')\n",
    " \n",
    "plt.show()"
   ]
  },
  {
   "cell_type": "markdown",
   "metadata": {},
   "source": [
    "Of course, as you may have spotted, there is a good amount of repetition in displaying this data.  Just take a look at how we retrieved the data for our `x_values` and `y_values`. And you'll notice that, unless we know the exact number of cities and populations in our excel file, this method of retrieving data might miss some data or try to access values that don't exist. \n",
    "\n",
    "We can take a close look at this below:"
   ]
  },
  {
   "cell_type": "code",
   "execution_count": 10,
   "metadata": {},
   "outputs": [],
   "source": [
    "x_values = [cities[0]['City'], cities[1]['City'], cities[2]['City']]\n",
    "y_values = [cities[0]['Population'], cities[1]['Population'], cities[2]['Population']]"
   ]
  },
  {
   "cell_type": "markdown",
   "metadata": {},
   "source": [
    "As we can see, if we have any more than 3 lines of data, our `x_values` and `y_values` will be incomplete, and if we had only 2 lines of data, our code would break.\n",
    "\n",
    "So in this lesson, we will use our `for` loop to display information about our travel locations with less repetition and more accuracy."
   ]
  },
  {
   "cell_type": "markdown",
   "metadata": {},
   "source": [
    "## Instructions"
   ]
  },
  {
   "cell_type": "markdown",
   "metadata": {},
   "source": [
    "Before we get into creating graphs from our cities data, let's get a bit more comfortable with the data we are working with. Let's see if we can iterate through just one element (i.e. a city **dictionary** object) to get the **area**. "
   ]
  },
  {
   "cell_type": "code",
   "execution_count": 11,
   "metadata": {},
   "outputs": [
    {
     "data": {
      "text/plain": [
       "{'City': 'Buenos Aires',\n",
       " 'Country': 'Argentina',\n",
       " 'Population': 2891000,\n",
       " 'Area': 4758}"
      ]
     },
     "execution_count": 11,
     "metadata": {},
     "output_type": "execute_result"
    }
   ],
   "source": [
    "buenos_aires = cities[0]\n",
    "buenos_aires"
   ]
  },
  {
   "cell_type": "code",
   "execution_count": 12,
   "metadata": {},
   "outputs": [
    {
     "data": {
      "text/plain": [
       "4758"
      ]
     },
     "execution_count": 12,
     "metadata": {},
     "output_type": "execute_result"
    }
   ],
   "source": [
    "# here we want to find just the area of buenos_aires\n",
    "buenos_aires_area = cities[0]['Area']\n",
    "# code goes here\n",
    "\n",
    "buenos_aires_area"
   ]
  },
  {
   "cell_type": "markdown",
   "metadata": {},
   "source": [
    "Now that we have a bit more familiarity with our dictionaries, we can move on to gathering all the information we need to create our traces. \n",
    "\n",
    "Our `cities` list contains information about the top 12 cities.  For our upcoming iteration tasks, it will be useful to have a list of the numbers 0 through 11.  Use what we know about `len` and `range`to generate a list of numbers 1 through 11.  Assign this to a variable called `city_indices`."
   ]
  },
  {
   "cell_type": "code",
   "execution_count": 13,
   "metadata": {},
   "outputs": [
    {
     "data": {
      "text/plain": [
       "[0, 1, 2, 3, 4, 5, 6, 7, 8, 9, 10, 11]"
      ]
     },
     "execution_count": 13,
     "metadata": {},
     "output_type": "execute_result"
    }
   ],
   "source": [
    "city_indices = list(range(0,len(cities)))\n",
    "city_indices # [0, 1, 2, 3, 4, 5, 6, 7, 8, 9, 10, 11]"
   ]
  },
  {
   "cell_type": "markdown",
   "metadata": {},
   "source": [
    "Now, using the `cities` list, we want to create a list of the names for each city. Loop through each city and append it's name (`'City'`) to the `city_names` list. "
   ]
  },
  {
   "cell_type": "code",
   "execution_count": 14,
   "metadata": {},
   "outputs": [
    {
     "data": {
      "text/plain": [
       "['Buenos Aires',\n",
       " 'Toronto',\n",
       " 'Pyeongchang',\n",
       " 'Marakesh',\n",
       " 'Albuquerque',\n",
       " 'Los Cabos',\n",
       " 'Greenville',\n",
       " 'Archipelago Sea',\n",
       " 'Walla Walla Valley',\n",
       " 'Salina Island',\n",
       " 'Solta',\n",
       " 'Iguazu Falls']"
      ]
     },
     "execution_count": 14,
     "metadata": {},
     "output_type": "execute_result"
    }
   ],
   "source": [
    "city_names = []\n",
    "for city in range(0,len(cities)):\n",
    "    city_names.append(cities[city]['City'])\n",
    "\n",
    "city_names"
   ]
  },
  {
   "cell_type": "markdown",
   "metadata": {},
   "source": [
    "Your task is to assign the variable `names_and_ranks` to a list, with each element equal to the city name and it's corresponding rank.  For example, the first element would be, `\"1. Buenos Aires\"` and the second would be `\"2. Toronto\"`. Luckily for us, the list of cities that we read from our excel file is already in order my most populous to least. So, all we need to do is add numbers 1 through 12 to the beginning of each city name.\n",
    "\n",
    "Use a `for` loop and the lists `city_indices` and `city_names` to accomplish this.  We'll need to perform some nifty string interpolation to format our strings properly.  Check out [f-string interpolation](https://www.programiz.com/python-programming/string-interpolation#f) to see how we can pass values into a string.  Remember that list indices start at zero, but we want our `names_and_ranks` list to start at one!"
   ]
  },
  {
   "cell_type": "code",
   "execution_count": 15,
   "metadata": {},
   "outputs": [
    {
     "data": {
      "text/plain": [
       "['1.Buenos Aires',\n",
       " '2.Toronto',\n",
       " '3.Pyeongchang',\n",
       " '4.Marakesh',\n",
       " '5.Albuquerque',\n",
       " '6.Los Cabos',\n",
       " '7.Greenville',\n",
       " '8.Archipelago Sea',\n",
       " '9.Walla Walla Valley',\n",
       " '10.Salina Island',\n",
       " '11.Solta',\n",
       " '12.Iguazu Falls']"
      ]
     },
     "execution_count": 15,
     "metadata": {},
     "output_type": "execute_result"
    }
   ],
   "source": [
    "names_and_ranks = []\n",
    "\n",
    "for i in city_indices:\n",
    "    names_and_ranks.append(str(i+1)+ '.'+str(city_names[i]))\n",
    "    \n",
    "names_and_ranks"
   ]
  },
  {
   "cell_type": "code",
   "execution_count": 16,
   "metadata": {},
   "outputs": [
    {
     "name": "stdout",
     "output_type": "stream",
     "text": [
      "1.Buenos Aires\n",
      "2.Toronto\n",
      "12.Iguazu Falls\n"
     ]
    }
   ],
   "source": [
    "print(names_and_ranks[0]) # '1. Buenos Aires'\n",
    "print(names_and_ranks[1]) # '2. Toronto'\n",
    "print(names_and_ranks[-1]) # '12. Iguazu Falls'"
   ]
  },
  {
   "cell_type": "markdown",
   "metadata": {},
   "source": [
    "Ok, now use another for loop to iterate through our list of `cities` and create a new list called `city_populations` that had the population for each city (`Population`)."
   ]
  },
  {
   "cell_type": "code",
   "execution_count": 17,
   "metadata": {},
   "outputs": [
    {
     "data": {
      "text/plain": [
       "[2891000,\n",
       " 2800000,\n",
       " 2581000,\n",
       " 928850,\n",
       " 559277,\n",
       " 287651,\n",
       " 84554,\n",
       " 60000,\n",
       " 32237,\n",
       " 4000,\n",
       " 1700,\n",
       " 0]"
      ]
     },
     "execution_count": 17,
     "metadata": {},
     "output_type": "execute_result"
    }
   ],
   "source": [
    "city_populations = []\n",
    "for city in cities:\n",
    "    city_populations.append(city['Population'])\n",
    "city_populations # use a for loop to iterate through the list of cities with their corresponding population"
   ]
  },
  {
   "cell_type": "code",
   "execution_count": 18,
   "metadata": {},
   "outputs": [
    {
     "name": "stdout",
     "output_type": "stream",
     "text": [
      "2891000\n",
      "2800000\n",
      "0\n"
     ]
    }
   ],
   "source": [
    "print(city_populations[0]) # 2891000\n",
    "print(city_populations[1]) # 2800000\n",
    "print(city_populations[-1]) # 0"
   ]
  },
  {
   "cell_type": "markdown",
   "metadata": {},
   "source": [
    "Great! Now we can begin to plot this data. Again, we'll used matplotlib to create a bar graph with our cities and their respective population data. To do this, we use the `.bar()` function and pass in our x-axis and y-axis values, add a label and title (if we want), and finally we call the `.show()` method from matplotlib to view our new bar graph. \n",
    "\n",
    "> **Note:** In the example below, we are adding a custom rotation for our x-axis labels so that they do not overlap."
   ]
  },
  {
   "cell_type": "code",
   "execution_count": 19,
   "metadata": {},
   "outputs": [
    {
     "data": {
      "image/png": "[encoded data removed]",
      "text/plain": [
       "<Figure size 432x288 with 1 Axes>"
      ]
     },
     "metadata": {
      "needs_background": "light"
     },
     "output_type": "display_data"
    }
   ],
   "source": [
    "plt.bar(names_and_ranks, city_populations)\n",
    "plt.xticks(rotation='vertical')\n",
    "plt.ylabel('Population')\n",
    "plt.title('City Populations')\n",
    "plt.show()"
   ]
  },
  {
   "cell_type": "markdown",
   "metadata": {},
   "source": [
    "Now we want declare a variable called `city_areas` that points to a list of all of the areas of the cities.  Let's use a `for` loop to iterate through our `cities` and have `city_areas` equal to each area of the city.  "
   ]
  },
  {
   "cell_type": "code",
   "execution_count": 21,
   "metadata": {},
   "outputs": [
    {
     "data": {
      "text/plain": [
       "[]"
      ]
     },
     "execution_count": 21,
     "metadata": {},
     "output_type": "execute_result"
    }
   ],
   "source": [
    "city_areas = []\n",
    "for city in cities:\n",
    "    city_populations.append(city['Area'])\n",
    "city_areas"
   ]
  },
  {
   "cell_type": "markdown",
   "metadata": {},
   "source": [
    "Now that we have the city areas and populations, let's plot them to see how the size of each city compares to its population. "
   ]
  },
  {
   "cell_type": "code",
   "execution_count": null,
   "metadata": {},
   "outputs": [],
   "source": [
    "plt.bar(names_and_ranks, city_populations)\n",
    "\n",
    "plt.ylabel('Population')\n",
    "plt.xlabel('Cities')\n",
    "plt.title('City Populations')\n",
    "plt.xticks(rotation='vertical')\n",
    " \n",
    "plt.show()"
   ]
  },
  {
   "cell_type": "code",
   "execution_count": null,
   "metadata": {},
   "outputs": [],
   "source": [
    "plt.bar(names_and_ranks, city_areas)\n",
    "plt.ylabel('Area')\n",
    "plt.xlabel('Cities')\n",
    "plt.title('City Areas')\n",
    "plt.xticks(rotation='vertical')\n",
    " \n",
    "plt.show()"
   ]
  },
  {
   "cell_type": "markdown",
   "metadata": {},
   "source": [
    "### Summary"
   ]
  },
  {
   "cell_type": "markdown",
   "metadata": {},
   "source": [
    "In this section we saw how we can use `for` loops to go through elements of a list and perform the same operation on each.  By using `for` loops we were able to reduce the amount of code that we wrote and while also writing more expressive code."
   ]
  }
 ],
 "metadata": {
  "kernelspec": {
   "display_name": "Python 3",
   "language": "python",
   "name": "python3"
  },
  "language_info": {
   "codemirror_mode": {
    "name": "ipython",
    "version": 3
   },
   "file_extension": ".py",
   "mimetype": "text/x-python",
   "name": "python",
   "nbconvert_exporter": "python",
   "pygments_lexer": "ipython3",
   "version": "3.6.6"
  }
 },
 "nbformat": 4,
 "nbformat_minor": 2
}
